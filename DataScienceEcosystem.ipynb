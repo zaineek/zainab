{
  "metadata": {
    "kernelspec": {
      "name": "python",
      "display_name": "Python (Pyodide)",
      "language": "python"
    },
    "language_info": {
      "codemirror_mode": {
        "name": "python",
        "version": 3
      },
      "file_extension": ".py",
      "mimetype": "text/x-python",
      "name": "python",
      "nbconvert_exporter": "python",
      "pygments_lexer": "ipython3",
      "version": "3.8"
    }
  },
  "nbformat_minor": 4,
  "nbformat": 4,
  "cells": [
    {
      "cell_type": "markdown",
      "source": "# Data Science Tools and Ecosystem",
      "metadata": {}
    },
    {
      "cell_type": "markdown",
      "source": "In this notebook, data science tools and ecosystems are summarized.",
      "metadata": {}
    },
    {
      "cell_type": "markdown",
      "source": "Some of the popular languagues that data scientists use are:\n\n1.Python\n2.R\n3.SQL\n4.Scala\n5.Java\n6.Javascript",
      "metadata": {}
    },
    {
      "cell_type": "markdown",
      "source": "**Objectives**:\n* Learned about various data science tools including clous based ones.\n* had hands on experience with jupyter, python and R.\n* learned about APIs , data sets , libraries.",
      "metadata": {}
    },
    {
      "cell_type": "markdown",
      "source": "## Author\n   Zainab Kazi.",
      "metadata": {}
    },
    {
      "cell_type": "markdown",
      "source": "Some of the commonly used libraries by Data Scientists include:\n\n1.Pandas\n2.Numpy\n3.Matplotlib\n4.Tensorflow\n5.Pytorch\n6.Keras",
      "metadata": {}
    },
    {
      "cell_type": "markdown",
      "source": " | Data Science Tools | Apache spark | Matplotlib | Scikit-learn |\n | _ _ _ _ _ _ _ _ _ _| _ _ _ _ _ _ _| _ _ _ _ _ _| _ _ _ _ _ _ _|\n       ",
      "metadata": {}
    },
    {
      "cell_type": "markdown",
      "source": "### Below are a few examples of evaluating arithmetic expressions in python ",
      "metadata": {}
    },
    {
      "cell_type": "code",
      "source": "# this a simple arithmetic expression to multiply then add integers\n(3*4)+5",
      "metadata": {
        "trusted": true
      },
      "outputs": [
        {
          "execution_count": 4,
          "output_type": "execute_result",
          "data": {
            "text/plain": "17"
          },
          "metadata": {}
        }
      ],
      "execution_count": 4
    },
    {
      "cell_type": "code",
      "source": "# this will convert 200 minutes to hours by dividing by 60\n\n200/60",
      "metadata": {
        "trusted": true
      },
      "outputs": [
        {
          "execution_count": 5,
          "output_type": "execute_result",
          "data": {
            "text/plain": "3.3333333333333335"
          },
          "metadata": {}
        }
      ],
      "execution_count": 5
    },
    {
      "cell_type": "code",
      "source": "",
      "metadata": {
        "trusted": true
      },
      "outputs": [],
      "execution_count": null
    }
  ]
}